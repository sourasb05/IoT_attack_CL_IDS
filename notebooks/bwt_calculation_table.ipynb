{
 "cells": [
  {
   "cell_type": "code",
   "execution_count": 2,
   "id": "b29f805f",
   "metadata": {},
   "outputs": [
    {
     "name": "stdout",
     "output_type": "stream",
     "text": [
      "Parent working directory: /proj/sourasb-220503/IoT_attack_CL_IDS/results\n"
     ]
    }
   ],
   "source": [
    "import json\n",
    "import numpy as np\n",
    "import os\n",
    "\n",
    "cw = os.getcwd()\n",
    "pwd = os.path.abspath(os.path.join(cw, \"..\", \"results\"))\n",
    "print(f\"Parent working directory: {pwd}\")"
   ]
  },
  {
   "cell_type": "markdown",
   "id": "381cca0b",
   "metadata": {},
   "source": [
    "## EWC"
   ]
  },
  {
   "cell_type": "code",
   "execution_count": 8,
   "id": "31e7b250",
   "metadata": {},
   "outputs": [
    {
     "name": "stdout",
     "output_type": "stream",
     "text": [
      "47th entry from each file: [-0.11769522386636555, -0.17455951903002098, -0.13902126148548796]\n",
      "Average: -0.14375866812729152±0.023455195336103896\n"
     ]
    }
   ],
   "source": [
    "\n",
    "# List of files\n",
    "files = [ pwd + \"/1_experiment_results_LSTM_EWC_random.json\",\n",
    "    pwd + \"/2_experiment_results_LSTM_EWC_random.json\",\n",
    "    pwd + \"/3_experiment_results_LSTM_EWC_random.json\"\n",
    "]\n",
    "\n",
    "values = []\n",
    "\n",
    "for file in files:\n",
    "    with open(file, 'r') as f:\n",
    "        data = json.load(f)\n",
    "        # Get the 47th entry (index 46)\n",
    "        try:\n",
    "            value = data[\"BWT_values\"][46]\n",
    "            values.append(value)\n",
    "        except (KeyError, IndexError) as e:\n",
    "            print(f\"Problem with {file}: {e}\")\n",
    "\n",
    "if values:\n",
    "    avg_value = np.mean(values)\n",
    "    std_value = np.std(values)\n",
    "    print(f\"47th entry from each file: {values}\")\n",
    "    print(f\"Average: {avg_value}±{std_value}\")\n",
    "else:\n",
    "    print(\"No values extracted.\")"
   ]
  },
  {
   "cell_type": "code",
   "execution_count": 9,
   "id": "b670fc23",
   "metadata": {},
   "outputs": [
    {
     "name": "stdout",
     "output_type": "stream",
     "text": [
      "47th entry from each file: [-0.29019403317870357, -0.15435628970404547, -0.24211535635424672]\n",
      "Average: -0.22888855974566524±0.056238683302897136\n"
     ]
    }
   ],
   "source": [
    "\n",
    "# List of files\n",
    "files = [ pwd + \"/1_experiment_results_LSTM_EWC_b2w.json\",\n",
    "    pwd + \"/2_experiment_results_LSTM_EWC_b2w.json\",\n",
    "    pwd + \"/3_experiment_results_LSTM_EWC_b2w.json\"\n",
    "]\n",
    "\n",
    "values = []\n",
    "\n",
    "for file in files:\n",
    "    with open(file, 'r') as f:\n",
    "        data = json.load(f)\n",
    "        # Get the 47th entry (index 46)\n",
    "        try:\n",
    "            value = data[\"BWT_values\"][46]\n",
    "            values.append(value)\n",
    "        except (KeyError, IndexError) as e:\n",
    "            print(f\"Problem with {file}: {e}\")\n",
    "\n",
    "if values:\n",
    "    avg_value = np.mean(values)\n",
    "    std_value = np.std(values)\n",
    "    print(f\"47th entry from each file: {values}\")\n",
    "    print(f\"Average: {avg_value}±{std_value}\")\n",
    "else:\n",
    "    print(\"No values extracted.\")"
   ]
  },
  {
   "cell_type": "code",
   "execution_count": 10,
   "id": "1113d4e1",
   "metadata": {},
   "outputs": [
    {
     "name": "stdout",
     "output_type": "stream",
     "text": [
      "47th entry from each file: [-0.08147489859495616, -0.10384622572031763, -0.0951302923019936]\n",
      "Average: -0.09348380553908912±0.009206963246470872\n"
     ]
    }
   ],
   "source": [
    "\n",
    "# List of files\n",
    "files = [ pwd + \"/1_experiment_results_LSTM_EWC_w2b.json\",\n",
    "    pwd + \"/2_experiment_results_LSTM_EWC_w2b.json\",\n",
    "    pwd + \"/3_experiment_results_LSTM_EWC_w2b.json\"\n",
    "]\n",
    "\n",
    "values = []\n",
    "\n",
    "for file in files:\n",
    "    with open(file, 'r') as f:\n",
    "        data = json.load(f)\n",
    "        # Get the 47th entry (index 46)\n",
    "        try:\n",
    "            value = data[\"BWT_values\"][46]\n",
    "            values.append(value)\n",
    "        except (KeyError, IndexError) as e:\n",
    "            print(f\"Problem with {file}: {e}\")\n",
    "\n",
    "if values:\n",
    "    avg_value = np.mean(values)\n",
    "    std_value = np.std(values)\n",
    "    print(f\"47th entry from each file: {values}\")\n",
    "    print(f\"Average: {avg_value}±{std_value}\")\n",
    "else:\n",
    "    print(\"No values extracted.\")"
   ]
  },
  {
   "cell_type": "code",
   "execution_count": 11,
   "id": "a64dd4f4",
   "metadata": {},
   "outputs": [
    {
     "name": "stdout",
     "output_type": "stream",
     "text": [
      "47th entry from each file: [-0.08711276971619696, -0.10626381007848117, -0.09250288882095042]\n",
      "Average: -0.0952931562052095±0.008063488938675152\n"
     ]
    }
   ],
   "source": [
    "\n",
    "# List of files\n",
    "files = [ pwd + \"/1_experiment_results_LSTM_EWC_toggle.json\",\n",
    "    pwd + \"/2_experiment_results_LSTM_EWC_toggle.json\",\n",
    "    pwd + \"/3_experiment_results_LSTM_EWC_toggle.json\"\n",
    "]\n",
    "\n",
    "values = []\n",
    "\n",
    "for file in files:\n",
    "    with open(file, 'r') as f:\n",
    "        data = json.load(f)\n",
    "        # Get the 47th entry (index 46)\n",
    "        try:\n",
    "            value = data[\"BWT_values\"][46]\n",
    "            values.append(value)\n",
    "        except (KeyError, IndexError) as e:\n",
    "            print(f\"Problem with {file}: {e}\")\n",
    "\n",
    "if values:\n",
    "    avg_value = np.mean(values)\n",
    "    std_value = np.std(values)\n",
    "    print(f\"47th entry from each file: {values}\")\n",
    "    print(f\"Average: {avg_value}±{std_value}\")\n",
    "else:\n",
    "    print(\"No values extracted.\")"
   ]
  },
  {
   "cell_type": "markdown",
   "id": "87986f6c",
   "metadata": {},
   "source": [
    "## WCL"
   ]
  },
  {
   "cell_type": "code",
   "execution_count": 12,
   "id": "a09f2f35",
   "metadata": {},
   "outputs": [
    {
     "name": "stdout",
     "output_type": "stream",
     "text": [
      "47th entry from each file: [-0.407402023976093, -0.3822641747173005, -0.389281532326972]\n",
      "Average: -0.3929825770067885±0.010590913247715134\n"
     ]
    }
   ],
   "source": [
    "\n",
    "# List of files\n",
    "files = [ pwd + \"/1_experiment_results_LSTM_WCL_random.json\",\n",
    "    pwd + \"/2_experiment_results_LSTM_WCL_random.json\",\n",
    "    pwd + \"/3_experiment_results_LSTM_WCL_random.json\"\n",
    "]\n",
    "\n",
    "values = []\n",
    "\n",
    "for file in files:\n",
    "    with open(file, 'r') as f:\n",
    "        data = json.load(f)\n",
    "        # Get the 47th entry (index 46)\n",
    "        try:\n",
    "            value = data[\"BWT_values\"][46]\n",
    "            values.append(value)\n",
    "        except (KeyError, IndexError) as e:\n",
    "            print(f\"Problem with {file}: {e}\")\n",
    "\n",
    "if values:\n",
    "    avg_value = np.mean(values)\n",
    "    std_value = np.std(values)\n",
    "    print(f\"47th entry from each file: {values}\")\n",
    "    print(f\"Average: {avg_value}±{std_value}\")\n",
    "else:\n",
    "    print(\"No values extracted.\")"
   ]
  },
  {
   "cell_type": "code",
   "execution_count": 13,
   "id": "2b0c9ee7",
   "metadata": {},
   "outputs": [
    {
     "name": "stdout",
     "output_type": "stream",
     "text": [
      "47th entry from each file: [-0.37524981209712516, -0.3603930625927061, -0.32263232938004494]\n",
      "Average: -0.3527584013566254±0.022148979073730746\n"
     ]
    }
   ],
   "source": [
    "\n",
    "# List of files\n",
    "files = [ pwd + \"/1_experiment_results_LSTM_WCL_b2w.json\",\n",
    "    pwd + \"/2_experiment_results_LSTM_WCL_b2w.json\",\n",
    "    pwd + \"/3_experiment_results_LSTM_WCL_b2w.json\"\n",
    "]\n",
    "\n",
    "values = []\n",
    "\n",
    "for file in files:\n",
    "    with open(file, 'r') as f:\n",
    "        data = json.load(f)\n",
    "        # Get the 47th entry (index 46)\n",
    "        try:\n",
    "            value = data[\"BWT_values\"][46]\n",
    "            values.append(value)\n",
    "        except (KeyError, IndexError) as e:\n",
    "            print(f\"Problem with {file}: {e}\")\n",
    "\n",
    "if values:\n",
    "    avg_value = np.mean(values)\n",
    "    std_value = np.std(values)\n",
    "    print(f\"47th entry from each file: {values}\")\n",
    "    print(f\"Average: {avg_value}±{std_value}\")\n",
    "else:\n",
    "    print(\"No values extracted.\")"
   ]
  },
  {
   "cell_type": "code",
   "execution_count": 14,
   "id": "e75b7283",
   "metadata": {},
   "outputs": [
    {
     "name": "stdout",
     "output_type": "stream",
     "text": [
      "47th entry from each file: [-0.29019403317870357, -0.3186261268630055, -0.2710655006367879]\n",
      "Average: -0.29329522022616566±0.01953998144975244\n"
     ]
    }
   ],
   "source": [
    "\n",
    "# List of files\n",
    "files = [ pwd + \"/1_experiment_results_LSTM_WCL_w2b.json\",\n",
    "    pwd + \"/2_experiment_results_LSTM_WCL_w2b.json\",\n",
    "    pwd + \"/3_experiment_results_LSTM_WCL_w2b.json\"\n",
    "]\n",
    "\n",
    "values = []\n",
    "\n",
    "for file in files:\n",
    "    with open(file, 'r') as f:\n",
    "        data = json.load(f)\n",
    "        # Get the 47th entry (index 46)\n",
    "        try:\n",
    "            value = data[\"BWT_values\"][46]\n",
    "            values.append(value)\n",
    "        except (KeyError, IndexError) as e:\n",
    "            print(f\"Problem with {file}: {e}\")\n",
    "\n",
    "if values:\n",
    "    avg_value = np.mean(values)\n",
    "    std_value = np.std(values)\n",
    "    print(f\"47th entry from each file: {values}\")\n",
    "    print(f\"Average: {avg_value}±{std_value}\")\n",
    "else:\n",
    "    print(\"No values extracted.\")"
   ]
  },
  {
   "cell_type": "code",
   "execution_count": 15,
   "id": "16a55114",
   "metadata": {},
   "outputs": [
    {
     "name": "stdout",
     "output_type": "stream",
     "text": [
      "47th entry from each file: [-0.2992027316474773, -0.2988041611511231, -0.2941428420660039]\n",
      "Average: -0.2973832449548681±0.0022970811583051323\n"
     ]
    }
   ],
   "source": [
    "\n",
    "# List of files\n",
    "files = [ pwd + \"/1_experiment_results_LSTM_WCL_toggle.json\",\n",
    "    pwd + \"/2_experiment_results_LSTM_WCL_toggle.json\",\n",
    "    pwd + \"/3_experiment_results_LSTM_WCL_toggle.json\"\n",
    "]\n",
    "\n",
    "values = []\n",
    "\n",
    "for file in files:\n",
    "    with open(file, 'r') as f:\n",
    "        data = json.load(f)\n",
    "        # Get the 47th entry (index 46)\n",
    "        try:\n",
    "            value = data[\"BWT_values\"][46]\n",
    "            values.append(value)\n",
    "        except (KeyError, IndexError) as e:\n",
    "            print(f\"Problem with {file}: {e}\")\n",
    "\n",
    "if values:\n",
    "    avg_value = np.mean(values)\n",
    "    std_value = np.std(values)\n",
    "    print(f\"47th entry from each file: {values}\")\n",
    "    print(f\"Average: {avg_value}±{std_value}\")\n",
    "else:\n",
    "    print(\"No values extracted.\")"
   ]
  },
  {
   "cell_type": "markdown",
   "id": "b1f71c78",
   "metadata": {},
   "source": [
    "## GR"
   ]
  },
  {
   "cell_type": "code",
   "execution_count": 16,
   "id": "d3bac18f",
   "metadata": {},
   "outputs": [
    {
     "name": "stdout",
     "output_type": "stream",
     "text": [
      "47th entry from each file: [-0.38064719193741037, -0.4266265193037901, -0.36581673999333364]\n",
      "Average: -0.3910301504115114±0.02588837171334888\n"
     ]
    }
   ],
   "source": [
    "\n",
    "# List of files\n",
    "files = [ pwd + \"/1_experiment_results_LSTM_GR_random.json\",\n",
    "    pwd + \"/2_experiment_results_LSTM_GR_random.json\",\n",
    "    pwd + \"/3_experiment_results_LSTM_GR_random.json\"\n",
    "]\n",
    "\n",
    "values = []\n",
    "\n",
    "for file in files:\n",
    "    with open(file, 'r') as f:\n",
    "        data = json.load(f)\n",
    "        # Get the 47th entry (index 46)\n",
    "        try:\n",
    "            value = data[\"BWT_values\"][46]\n",
    "            values.append(value)\n",
    "        except (KeyError, IndexError) as e:\n",
    "            print(f\"Problem with {file}: {e}\")\n",
    "\n",
    "if values:\n",
    "    avg_value = np.mean(values)\n",
    "    std_value = np.std(values)\n",
    "    print(f\"47th entry from each file: {values}\")\n",
    "    print(f\"Average: {avg_value}±{std_value}\")\n",
    "else:\n",
    "    print(\"No values extracted.\")"
   ]
  },
  {
   "cell_type": "code",
   "execution_count": null,
   "id": "d7cc54cc",
   "metadata": {},
   "outputs": [],
   "source": []
  },
  {
   "cell_type": "code",
   "execution_count": 17,
   "id": "8183511b",
   "metadata": {},
   "outputs": [
    {
     "name": "stdout",
     "output_type": "stream",
     "text": [
      "47th entry from each file: [-0.4035961246764402, -0.39954810047434275, -0.35312068784893325]\n",
      "Average: -0.38542163766657206±0.02289992932050821\n"
     ]
    }
   ],
   "source": [
    "\n",
    "# List of files\n",
    "files = [ pwd + \"/1_experiment_results_LSTM_GR_b2w.json\",\n",
    "    pwd + \"/2_experiment_results_LSTM_GR_b2w.json\",\n",
    "    pwd + \"/3_experiment_results_LSTM_GR_b2w.json\"\n",
    "]\n",
    "\n",
    "values = []\n",
    "\n",
    "for file in files:\n",
    "    with open(file, 'r') as f:\n",
    "        data = json.load(f)\n",
    "        # Get the 47th entry (index 46)\n",
    "        try:\n",
    "            value = data[\"BWT_values\"][46]\n",
    "            values.append(value)\n",
    "        except (KeyError, IndexError) as e:\n",
    "            print(f\"Problem with {file}: {e}\")\n",
    "\n",
    "if values:\n",
    "    avg_value = np.mean(values)\n",
    "    std_value = np.std(values)\n",
    "    print(f\"47th entry from each file: {values}\")\n",
    "    print(f\"Average: {avg_value}±{std_value}\")\n",
    "else:\n",
    "    print(\"No values extracted.\")"
   ]
  },
  {
   "cell_type": "code",
   "execution_count": 18,
   "id": "7439798d",
   "metadata": {},
   "outputs": [
    {
     "name": "stdout",
     "output_type": "stream",
     "text": [
      "47th entry from each file: [-0.29730500873634413, -0.2803721892631672, -0.2854640870186312]\n",
      "Average: -0.2877137616727142±0.007093465108333516\n"
     ]
    }
   ],
   "source": [
    "\n",
    "# List of files\n",
    "files = [ pwd + \"/1_experiment_results_LSTM_GR_w2b.json\",\n",
    "    pwd + \"/2_experiment_results_LSTM_GR_w2b.json\",\n",
    "    pwd + \"/3_experiment_results_LSTM_GR_w2b.json\"\n",
    "]\n",
    "\n",
    "values = []\n",
    "\n",
    "for file in files:\n",
    "    with open(file, 'r') as f:\n",
    "        data = json.load(f)\n",
    "        # Get the 47th entry (index 46)\n",
    "        try:\n",
    "            value = data[\"BWT_values\"][46]\n",
    "            values.append(value)\n",
    "        except (KeyError, IndexError) as e:\n",
    "            print(f\"Problem with {file}: {e}\")\n",
    "\n",
    "if values:\n",
    "    avg_value = np.mean(values)\n",
    "    std_value = np.std(values)\n",
    "    print(f\"47th entry from each file: {values}\")\n",
    "    print(f\"Average: {avg_value}±{std_value}\")\n",
    "else:\n",
    "    print(\"No values extracted.\")"
   ]
  },
  {
   "cell_type": "code",
   "execution_count": 3,
   "id": "214f1133",
   "metadata": {},
   "outputs": [
    {
     "name": "stdout",
     "output_type": "stream",
     "text": [
      "47th entry from each file: [-0.28772987271025996, -0.31028642585768634, -0.29978911908289135]\n",
      "Average: -0.2992684725502792±0.009216030493370725\n"
     ]
    }
   ],
   "source": [
    "\n",
    "# List of files\n",
    "files = [ pwd + \"/1_experiment_results_LSTM_GR_toggle.json\",\n",
    "    pwd + \"/2_experiment_results_LSTM_GR_toggle.json\",\n",
    "    pwd + \"/3_experiment_results_LSTM_GR_toggle.json\"\n",
    "]\n",
    "\n",
    "values = []\n",
    "\n",
    "for file in files:\n",
    "    with open(file, 'r') as f:\n",
    "        data = json.load(f)\n",
    "        # Get the 47th entry (index 46)\n",
    "        try:\n",
    "            value = data[\"BWT_values\"][46]\n",
    "            values.append(value)\n",
    "        except (KeyError, IndexError) as e:\n",
    "            print(f\"Problem with {file}: {e}\")\n",
    "\n",
    "if values:\n",
    "    avg_value = np.mean(values)\n",
    "    std_value = np.std(values)\n",
    "    print(f\"47th entry from each file: {values}\")\n",
    "    print(f\"Average: {avg_value}±{std_value}\")\n",
    "else:\n",
    "    print(\"No values extracted.\")"
   ]
  },
  {
   "cell_type": "markdown",
   "id": "fbb64a28",
   "metadata": {},
   "source": [
    "## LwF"
   ]
  },
  {
   "cell_type": "code",
   "execution_count": 25,
   "id": "82efaf4c",
   "metadata": {},
   "outputs": [
    {
     "name": "stdout",
     "output_type": "stream",
     "text": [
      "47th entry from each file: [-0.36592444777781186, -0.37581380326502767, -0.41591351778485647]\n",
      "Average: -0.3858839229425653±0.021614536201088535\n"
     ]
    }
   ],
   "source": [
    "# List of files\n",
    "files = [ pwd + \"/1_experiment_results_LSTM_LwF_random_alpha_1.0_T_4.0.json\",\n",
    "    pwd + \"/2_experiment_results_LSTM_LwF_random_alpha_1.0_T_4.0.json\",\n",
    "    pwd + \"/3_experiment_results_LSTM_LwF_random_alpha_1.0_T_4.0.json\"\n",
    "]\n",
    "\n",
    "values = []\n",
    "\n",
    "for file in files:\n",
    "    with open(file, 'r') as f:\n",
    "        data = json.load(f)\n",
    "        # Get the 47th entry (index 46)\n",
    "        try:\n",
    "            value = data[\"BWT_values\"][46]\n",
    "            values.append(value)\n",
    "        except (KeyError, IndexError) as e:\n",
    "            print(f\"Problem with {file}: {e}\")\n",
    "\n",
    "if values:\n",
    "    avg_value = np.mean(values)\n",
    "    std_value = np.std(values)\n",
    "    print(f\"47th entry from each file: {values}\")\n",
    "    print(f\"Average: {avg_value}±{std_value}\")\n",
    "else:\n",
    "    print(\"No values extracted.\")"
   ]
  },
  {
   "cell_type": "code",
   "execution_count": 26,
   "id": "4229de89",
   "metadata": {},
   "outputs": [
    {
     "name": "stdout",
     "output_type": "stream",
     "text": [
      "47th entry from each file: [-0.3273023008388864, -0.2577538020310786, -0.2992916433764709]\n",
      "Average: -0.2947825820821453±0.028571514333007725\n"
     ]
    }
   ],
   "source": [
    "# List of files\n",
    "files = [ pwd + \"/1_experiment_results_LSTM_LwF_b2w_alpha_1.0_T_4.0.json\",\n",
    "    pwd + \"/2_experiment_results_LSTM_LwF_b2w_alpha_1.0_T_4.0.json\",\n",
    "    pwd + \"/3_experiment_results_LSTM_LwF_b2w_alpha_1.0_T_4.0.json\"\n",
    "]\n",
    "\n",
    "\n",
    "values = []\n",
    "\n",
    "for file in files:\n",
    "    with open(file, 'r') as f:\n",
    "        data = json.load(f)\n",
    "        # Get the 47th entry (index 46)\n",
    "        try:\n",
    "            value = data[\"BWT_values\"][46]\n",
    "            values.append(value)\n",
    "        except (KeyError, IndexError) as e:\n",
    "            print(f\"Problem with {file}: {e}\")\n",
    "\n",
    "if values:\n",
    "    avg_value = np.mean(values)\n",
    "    std_value = np.std(values)\n",
    "    print(f\"47th entry from each file: {values}\")\n",
    "    print(f\"Average: {avg_value}±{std_value}\")\n",
    "else:\n",
    "    print(\"No values extracted.\")"
   ]
  },
  {
   "cell_type": "code",
   "execution_count": 27,
   "id": "5100484d",
   "metadata": {},
   "outputs": [
    {
     "name": "stdout",
     "output_type": "stream",
     "text": [
      "47th entry from each file: [-0.06491425187199153, -0.05492012682975553, -0.020762334458017773]\n",
      "Average: -0.046865571053254944±0.01890334810556336\n"
     ]
    }
   ],
   "source": [
    "# List of files\n",
    "files = [ pwd + \"/1_experiment_results_LSTM_LwF_w2b_alpha_1.0_T_4.0.json\",\n",
    "    pwd + \"/2_experiment_results_LSTM_LwF_w2b_alpha_1.0_T_4.0.json\",\n",
    "    pwd + \"/3_experiment_results_LSTM_LwF_w2b_alpha_1.0_T_4.0.json\"\n",
    "]\n",
    "\n",
    "\n",
    "values = []\n",
    "\n",
    "for file in files:\n",
    "    with open(file, 'r') as f:\n",
    "        data = json.load(f)\n",
    "        # Get the 47th entry (index 46)\n",
    "        try:\n",
    "            value = data[\"BWT_values\"][46]\n",
    "            values.append(value)\n",
    "        except (KeyError, IndexError) as e:\n",
    "            print(f\"Problem with {file}: {e}\")\n",
    "\n",
    "if values:\n",
    "    avg_value = np.mean(values)\n",
    "    std_value = np.std(values)\n",
    "    print(f\"47th entry from each file: {values}\")\n",
    "    print(f\"Average: {avg_value}±{std_value}\")\n",
    "else:\n",
    "    print(\"No values extracted.\")"
   ]
  },
  {
   "cell_type": "code",
   "execution_count": 28,
   "id": "0099b5ea",
   "metadata": {},
   "outputs": [
    {
     "name": "stdout",
     "output_type": "stream",
     "text": [
      "47th entry from each file: [-0.10360523141990571, -0.09672745022718016, -0.10886975569845542]\n",
      "Average: -0.10306747911518044±0.004971638140181986\n"
     ]
    }
   ],
   "source": [
    "# List of files\n",
    "files = [ pwd + \"/1_experiment_results_LSTM_LwF_toggle_alpha_1.0_T_4.0.json\",\n",
    "    pwd + \"/2_experiment_results_LSTM_LwF_toggle_alpha_1.0_T_4.0.json\",\n",
    "    pwd + \"/3_experiment_results_LSTM_LwF_toggle_alpha_1.0_T_4.0.json\"\n",
    "]\n",
    "\n",
    "\n",
    "values = []\n",
    "\n",
    "for file in files:\n",
    "    with open(file, 'r') as f:\n",
    "        data = json.load(f)\n",
    "        # Get the 47th entry (index 46)\n",
    "        try:\n",
    "            value = data[\"BWT_values\"][46]\n",
    "            values.append(value)\n",
    "        except (KeyError, IndexError) as e:\n",
    "            print(f\"Problem with {file}: {e}\")\n",
    "\n",
    "if values:\n",
    "    avg_value = np.mean(values)\n",
    "    std_value = np.std(values)\n",
    "    print(f\"47th entry from each file: {values}\")\n",
    "    print(f\"Average: {avg_value}±{std_value}\")\n",
    "else:\n",
    "    print(\"No values extracted.\")"
   ]
  }
 ],
 "metadata": {
  "kernelspec": {
   "display_name": "personalized_fl",
   "language": "python",
   "name": "python3"
  },
  "language_info": {
   "codemirror_mode": {
    "name": "ipython",
    "version": 3
   },
   "file_extension": ".py",
   "mimetype": "text/x-python",
   "name": "python",
   "nbconvert_exporter": "python",
   "pygments_lexer": "ipython3",
   "version": "3.11.3"
  }
 },
 "nbformat": 4,
 "nbformat_minor": 5
}
