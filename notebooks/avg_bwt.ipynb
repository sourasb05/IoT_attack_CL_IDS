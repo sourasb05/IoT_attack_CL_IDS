{
 "cells": [
  {
   "cell_type": "code",
   "execution_count": 1,
   "id": "529a2344",
   "metadata": {},
   "outputs": [
    {
     "name": "stdout",
     "output_type": "stream",
     "text": [
      "Parent working directory: /proj/sourasb-220503/IoT_attack_CL_IDS/results\n"
     ]
    }
   ],
   "source": [
    "import json\n",
    "import numpy as np\n",
    "import os\n",
    "\n",
    "cw = os.getcwd()\n",
    "pwd = os.path.abspath(os.path.join(cw, \"..\", \"results\"))\n",
    "print(f\"Parent working directory: {pwd}\")"
   ]
  },
  {
   "cell_type": "code",
   "execution_count": 14,
   "id": "6761c1ed",
   "metadata": {},
   "outputs": [],
   "source": [
    "\n",
    "def avg_bwt(files):\n",
    "    per_file_means = []\n",
    "\n",
    "    for file in files:\n",
    "        with open(file, 'r') as f:\n",
    "            data = json.load(f)\n",
    "            try:\n",
    "                bwt_values = data.get(\"BWT_values_f1\", [])\n",
    "                if bwt_values:\n",
    "                    file_mean = np.mean(bwt_values)\n",
    "                    per_file_means.append(file_mean)\n",
    "                    # print(f\"{file}: mean(BWT_values) = {file_mean:.6f}\")\n",
    "                else:\n",
    "                    print(f\"{file}: No BWT_values found or empty.\")\n",
    "            except Exception as e:\n",
    "                print(f\"Problem with {file}: {e}\")\n",
    "\n",
    "    if per_file_means:\n",
    "        overall_avg = np.mean(per_file_means)\n",
    "        overall_std = np.std(per_file_means)\n",
    "        print(f\"Per-file means: {per_file_means}\")\n",
    "        print(f\"Overall average across files: {overall_avg:.2f} ± {overall_std:.2f}\")\n",
    "    else:\n",
    "        print(\"No averages computed.\")\n"
   ]
  },
  {
   "cell_type": "markdown",
   "id": "f45814ca",
   "metadata": {},
   "source": [
    "# Random"
   ]
  },
  {
   "cell_type": "code",
   "execution_count": 16,
   "id": "2a76c670",
   "metadata": {},
   "outputs": [
    {
     "name": "stdout",
     "output_type": "stream",
     "text": [
      "Per-file means: [-0.30283745365105774, -0.31809718958063493, -0.3103698416771873, -0.30576307405534864, -0.3199797815870171, -0.31674207687301376, -0.31923505668132246, -0.32667011604222174, -0.3226156661260165, -0.32925634636126155]\n",
      "Overall average across files: -0.32 ± 0.01\n",
      "Per-file means: [-0.29592678283703977, -0.3057708362106745, -0.2944020148645961, -0.2799645420481504, -0.30461523403186846, -0.29000445225104193]\n",
      "Overall average across files: -0.30 ± 0.01\n",
      "Per-file means: [-0.31385628519009656, -0.29332951988820755, -0.2954322299916653, -0.2862275166160564, -0.29014680443397123, -0.27271217440058293, -0.30776935641824876, -0.30979606053681913, -0.28078765051150434, -0.3037627807744784]\n",
      "Overall average across files: -0.30 ± 0.01\n",
      "Per-file means: [-0.31050523237971894, -0.3102916402552164, -0.28845372836658567, -0.3101212019107622, -0.3068024781542038, -0.30613028982252616, -0.3053805110572718, -0.3077608194943169, -0.3069495330520458, -0.28977652145261107]\n",
      "Overall average across files: -0.30 ± 0.01\n"
     ]
    },
    {
     "ename": "FileNotFoundError",
     "evalue": "[Errno 2] No such file or directory: '/proj/sourasb-220503/IoT_attack_CL_IDS/results/1_experiment_results_LSTM_Replay_REPLAY_random.json'",
     "output_type": "error",
     "traceback": [
      "\u001b[0;31m---------------------------------------------------------------------------\u001b[0m",
      "\u001b[0;31mFileNotFoundError\u001b[0m                         Traceback (most recent call last)",
      "Cell \u001b[0;32mIn[16], line 61\u001b[0m\n\u001b[1;32m     54\u001b[0m avg_bwt(files)\n\u001b[1;32m     56\u001b[0m files \u001b[38;5;241m=\u001b[39m [\n\u001b[1;32m     57\u001b[0m     pwd \u001b[38;5;241m+\u001b[39m \u001b[38;5;124m\"\u001b[39m\u001b[38;5;124m/1_experiment_results_LSTM_Replay_REPLAY_random.json\u001b[39m\u001b[38;5;124m\"\u001b[39m,\n\u001b[1;32m     58\u001b[0m     pwd \u001b[38;5;241m+\u001b[39m \u001b[38;5;124m\"\u001b[39m\u001b[38;5;124m/2_experiment_results_LSTM_Replay_REPLAY_random.json\u001b[39m\u001b[38;5;124m\"\u001b[39m,\n\u001b[1;32m     59\u001b[0m     pwd \u001b[38;5;241m+\u001b[39m \u001b[38;5;124m\"\u001b[39m\u001b[38;5;124m/3_experiment_results_LSTM_Replay_REPLAY_random.json\u001b[39m\u001b[38;5;124m\"\u001b[39m\n\u001b[1;32m     60\u001b[0m ]\n\u001b[0;32m---> 61\u001b[0m \u001b[43mavg_bwt\u001b[49m\u001b[43m(\u001b[49m\u001b[43mfiles\u001b[49m\u001b[43m)\u001b[49m\n\u001b[1;32m     63\u001b[0m files \u001b[38;5;241m=\u001b[39m [ pwd \u001b[38;5;241m+\u001b[39m \u001b[38;5;124m\"\u001b[39m\u001b[38;5;124m/1_experiment_results_LSTM_GR_random.json\u001b[39m\u001b[38;5;124m\"\u001b[39m,\n\u001b[1;32m     64\u001b[0m     pwd \u001b[38;5;241m+\u001b[39m \u001b[38;5;124m\"\u001b[39m\u001b[38;5;124m/2_experiment_results_LSTM_GR_random.json\u001b[39m\u001b[38;5;124m\"\u001b[39m,\n\u001b[1;32m     65\u001b[0m     pwd \u001b[38;5;241m+\u001b[39m \u001b[38;5;124m\"\u001b[39m\u001b[38;5;124m/3_experiment_results_LSTM_GR_random.json\u001b[39m\u001b[38;5;124m\"\u001b[39m\n\u001b[1;32m     66\u001b[0m ]\n\u001b[1;32m     68\u001b[0m avg_bwt(files)\n",
      "Cell \u001b[0;32mIn[14], line 5\u001b[0m, in \u001b[0;36mavg_bwt\u001b[0;34m(files)\u001b[0m\n\u001b[1;32m      2\u001b[0m per_file_means \u001b[38;5;241m=\u001b[39m []\n\u001b[1;32m      4\u001b[0m \u001b[38;5;28;01mfor\u001b[39;00m file \u001b[38;5;129;01min\u001b[39;00m files:\n\u001b[0;32m----> 5\u001b[0m     \u001b[38;5;28;01mwith\u001b[39;00m \u001b[38;5;28;43mopen\u001b[39;49m\u001b[43m(\u001b[49m\u001b[43mfile\u001b[49m\u001b[43m,\u001b[49m\u001b[43m \u001b[49m\u001b[38;5;124;43m'\u001b[39;49m\u001b[38;5;124;43mr\u001b[39;49m\u001b[38;5;124;43m'\u001b[39;49m\u001b[43m)\u001b[49m \u001b[38;5;28;01mas\u001b[39;00m f:\n\u001b[1;32m      6\u001b[0m         data \u001b[38;5;241m=\u001b[39m json\u001b[38;5;241m.\u001b[39mload(f)\n\u001b[1;32m      7\u001b[0m         \u001b[38;5;28;01mtry\u001b[39;00m:\n",
      "File \u001b[0;32m~/anaconda3/envs/personalized_fl/lib/python3.11/site-packages/IPython/core/interactiveshell.py:284\u001b[0m, in \u001b[0;36m_modified_open\u001b[0;34m(file, *args, **kwargs)\u001b[0m\n\u001b[1;32m    277\u001b[0m \u001b[38;5;28;01mif\u001b[39;00m file \u001b[38;5;129;01min\u001b[39;00m {\u001b[38;5;241m0\u001b[39m, \u001b[38;5;241m1\u001b[39m, \u001b[38;5;241m2\u001b[39m}:\n\u001b[1;32m    278\u001b[0m     \u001b[38;5;28;01mraise\u001b[39;00m \u001b[38;5;167;01mValueError\u001b[39;00m(\n\u001b[1;32m    279\u001b[0m         \u001b[38;5;124mf\u001b[39m\u001b[38;5;124m\"\u001b[39m\u001b[38;5;124mIPython won\u001b[39m\u001b[38;5;124m'\u001b[39m\u001b[38;5;124mt let you open fd=\u001b[39m\u001b[38;5;132;01m{\u001b[39;00mfile\u001b[38;5;132;01m}\u001b[39;00m\u001b[38;5;124m by default \u001b[39m\u001b[38;5;124m\"\u001b[39m\n\u001b[1;32m    280\u001b[0m         \u001b[38;5;124m\"\u001b[39m\u001b[38;5;124mas it is likely to crash IPython. If you know what you are doing, \u001b[39m\u001b[38;5;124m\"\u001b[39m\n\u001b[1;32m    281\u001b[0m         \u001b[38;5;124m\"\u001b[39m\u001b[38;5;124myou can use builtins\u001b[39m\u001b[38;5;124m'\u001b[39m\u001b[38;5;124m open.\u001b[39m\u001b[38;5;124m\"\u001b[39m\n\u001b[1;32m    282\u001b[0m     )\n\u001b[0;32m--> 284\u001b[0m \u001b[38;5;28;01mreturn\u001b[39;00m \u001b[43mio_open\u001b[49m\u001b[43m(\u001b[49m\u001b[43mfile\u001b[49m\u001b[43m,\u001b[49m\u001b[43m \u001b[49m\u001b[38;5;241;43m*\u001b[39;49m\u001b[43margs\u001b[49m\u001b[43m,\u001b[49m\u001b[43m \u001b[49m\u001b[38;5;241;43m*\u001b[39;49m\u001b[38;5;241;43m*\u001b[39;49m\u001b[43mkwargs\u001b[49m\u001b[43m)\u001b[49m\n",
      "\u001b[0;31mFileNotFoundError\u001b[0m: [Errno 2] No such file or directory: '/proj/sourasb-220503/IoT_attack_CL_IDS/results/1_experiment_results_LSTM_Replay_REPLAY_random.json'"
     ]
    }
   ],
   "source": [
    "\n",
    "# List of files\n",
    "files_1 = [ pwd + \"/1_experiment_results_LSTM_WCL_random.json\",\n",
    "    pwd + \"/2_experiment_results_LSTM_WCL_random.json\",\n",
    "    pwd + \"/3_experiment_results_LSTM_WCL_random.json\",\n",
    "    pwd + \"/4_experiment_results_LSTM_WCL_random.json\",\n",
    "    pwd + \"/5_experiment_results_LSTM_WCL_random.json\",\n",
    "    pwd + \"/6_experiment_results_LSTM_WCL_random.json\",\n",
    "    pwd + \"/7_experiment_results_LSTM_WCL_random.json\",\n",
    "    pwd + \"/8_experiment_results_LSTM_WCL_random.json\",\n",
    "    pwd + \"/9_experiment_results_LSTM_WCL_random.json\",\n",
    "    pwd + \"/10_experiment_results_LSTM_WCL_random.json\"\n",
    "\n",
    "]\n",
    "\n",
    "avg_bwt(files_1)\n",
    "\n",
    "files_2 = [ pwd + \"/1_experiment_results_LSTM_EWC_random.json\",\n",
    "    pwd + \"/2_experiment_results_LSTM_EWC_random.json\",\n",
    "    pwd + \"/3_experiment_results_LSTM_EWC_random.json\",\n",
    "    pwd + \"/4_experiment_results_LSTM_EWC_random.json\",\n",
    "    pwd + \"/5_experiment_results_LSTM_EWC_random.json\",\n",
    "    pwd + \"/6_experiment_results_LSTM_EWC_random.json\",\n",
    "    # pwd + \"/7_experiment_results_LSTM_EWC_random.json\"\n",
    "]\n",
    "\n",
    "avg_bwt(files_2)\n",
    "\n",
    "files = [ pwd + \"/1_experiment_results_LSTM_SI_random.json\",\n",
    "    pwd + \"/2_experiment_results_LSTM_SI_random.json\",\n",
    "    pwd + \"/3_experiment_results_LSTM_SI_random.json\",\n",
    "    pwd + \"/4_experiment_results_LSTM_SI_random.json\",\n",
    "    pwd + \"/5_experiment_results_LSTM_SI_random.json\",\n",
    "    pwd + \"/6_experiment_results_LSTM_SI_random.json\",\n",
    "    pwd + \"/7_experiment_results_LSTM_SI_random.json\",\n",
    "    pwd + \"/8_experiment_results_LSTM_SI_random.json\",\n",
    "    pwd + \"/9_experiment_results_LSTM_SI_random.json\",\n",
    "    pwd + \"/10_experiment_results_LSTM_SI_random.json\"\n",
    "]\n",
    "\n",
    "avg_bwt(files)\n",
    "\n",
    "files = [ pwd + \"/1_experiment_results_LSTM_LwF_random_alpha_1.0_T_4.0.json\",\n",
    "    pwd + \"/2_experiment_results_LSTM_LwF_random_alpha_1.0_T_4.0.json\",\n",
    "    pwd + \"/3_experiment_results_LSTM_LwF_random_alpha_1.0_T_4.0.json\",\n",
    "    pwd + \"/4_experiment_results_LSTM_LwF_random_alpha_1.0_T_4.0.json\",\n",
    "    pwd + \"/5_experiment_results_LSTM_LwF_random_alpha_1.0_T_4.0.json\",\n",
    "    pwd + \"/6_experiment_results_LSTM_LwF_random_alpha_1.0_T_4.0.json\",\n",
    "    pwd + \"/7_experiment_results_LSTM_LwF_random_alpha_1.0_T_4.0.json\",\n",
    "    pwd + \"/8_experiment_results_LSTM_LwF_random_alpha_1.0_T_4.0.json\",\n",
    "    pwd + \"/9_experiment_results_LSTM_LwF_random_alpha_1.0_T_4.0.json\",\n",
    "    pwd + \"/10_experiment_results_LSTM_LwF_random_alpha_1.0_T_4.0.json\"\n",
    "]\n",
    "\n",
    "avg_bwt(files)\n",
    "\n",
    "files = [\n",
    "    pwd + \"/1_experiment_results_LSTM_Replay_REPLAY_random.json\",\n",
    "    pwd + \"/2_experiment_results_LSTM_Replay_REPLAY_random.json\",\n",
    "    pwd + \"/3_experiment_results_LSTM_Replay_REPLAY_random.json\"\n",
    "]\n",
    "avg_bwt(files)\n",
    "\n",
    "files = [ pwd + \"/1_experiment_results_LSTM_GR_random.json\",\n",
    "    pwd + \"/2_experiment_results_LSTM_GR_random.json\",\n",
    "    pwd + \"/3_experiment_results_LSTM_GR_random.json\"\n",
    "]\n",
    "\n",
    "avg_bwt(files)"
   ]
  },
  {
   "cell_type": "markdown",
   "id": "1ec411f2",
   "metadata": {},
   "source": [
    "## b2w"
   ]
  },
  {
   "cell_type": "code",
   "execution_count": 6,
   "id": "ee365606",
   "metadata": {},
   "outputs": [
    {
     "name": "stdout",
     "output_type": "stream",
     "text": [
      "Overall average across files: -0.19 ± 0.00\n",
      "Overall average across files: -0.05 ± 0.01\n",
      "Overall average across files: -0.06 ± 0.00\n",
      "Overall average across files: -0.11 ± 0.01\n"
     ]
    },
    {
     "ename": "FileNotFoundError",
     "evalue": "[Errno 2] No such file or directory: '/proj/sourasb-220503/IoT_attack_CL_IDS/results/1_experiment_results_LSTM_Replay_REPLAY_b2w.json'",
     "output_type": "error",
     "traceback": [
      "\u001b[0;31m---------------------------------------------------------------------------\u001b[0m",
      "\u001b[0;31mFileNotFoundError\u001b[0m                         Traceback (most recent call last)",
      "Cell \u001b[0;32mIn[6], line 35\u001b[0m\n\u001b[1;32m     28\u001b[0m avg_bwt(files)\n\u001b[1;32m     30\u001b[0m files \u001b[38;5;241m=\u001b[39m [\n\u001b[1;32m     31\u001b[0m     pwd \u001b[38;5;241m+\u001b[39m \u001b[38;5;124m\"\u001b[39m\u001b[38;5;124m/1_experiment_results_LSTM_Replay_REPLAY_b2w.json\u001b[39m\u001b[38;5;124m\"\u001b[39m,\n\u001b[1;32m     32\u001b[0m     pwd \u001b[38;5;241m+\u001b[39m \u001b[38;5;124m\"\u001b[39m\u001b[38;5;124m/2_experiment_results_LSTM_Replay_REPLAY_b2w.json\u001b[39m\u001b[38;5;124m\"\u001b[39m,\n\u001b[1;32m     33\u001b[0m     pwd \u001b[38;5;241m+\u001b[39m \u001b[38;5;124m\"\u001b[39m\u001b[38;5;124m/3_experiment_results_LSTM_Replay_REPLAY_b2w.json\u001b[39m\u001b[38;5;124m\"\u001b[39m\n\u001b[1;32m     34\u001b[0m ]\n\u001b[0;32m---> 35\u001b[0m \u001b[43mavg_bwt\u001b[49m\u001b[43m(\u001b[49m\u001b[43mfiles\u001b[49m\u001b[43m)\u001b[49m\n\u001b[1;32m     37\u001b[0m files \u001b[38;5;241m=\u001b[39m [ pwd \u001b[38;5;241m+\u001b[39m \u001b[38;5;124m\"\u001b[39m\u001b[38;5;124m/1_experiment_results_LSTM_GR_b2w.json\u001b[39m\u001b[38;5;124m\"\u001b[39m,\n\u001b[1;32m     38\u001b[0m     pwd \u001b[38;5;241m+\u001b[39m \u001b[38;5;124m\"\u001b[39m\u001b[38;5;124m/2_experiment_results_LSTM_GR_b2w.json\u001b[39m\u001b[38;5;124m\"\u001b[39m,\n\u001b[1;32m     39\u001b[0m     pwd \u001b[38;5;241m+\u001b[39m \u001b[38;5;124m\"\u001b[39m\u001b[38;5;124m/3_experiment_results_LSTM_GR_b2w.json\u001b[39m\u001b[38;5;124m\"\u001b[39m\n\u001b[1;32m     40\u001b[0m ]\n\u001b[1;32m     42\u001b[0m avg_bwt(files)\n",
      "Cell \u001b[0;32mIn[4], line 5\u001b[0m, in \u001b[0;36mavg_bwt\u001b[0;34m(files)\u001b[0m\n\u001b[1;32m      2\u001b[0m per_file_means \u001b[38;5;241m=\u001b[39m []\n\u001b[1;32m      4\u001b[0m \u001b[38;5;28;01mfor\u001b[39;00m file \u001b[38;5;129;01min\u001b[39;00m files:\n\u001b[0;32m----> 5\u001b[0m     \u001b[38;5;28;01mwith\u001b[39;00m \u001b[38;5;28;43mopen\u001b[39;49m\u001b[43m(\u001b[49m\u001b[43mfile\u001b[49m\u001b[43m,\u001b[49m\u001b[43m \u001b[49m\u001b[38;5;124;43m'\u001b[39;49m\u001b[38;5;124;43mr\u001b[39;49m\u001b[38;5;124;43m'\u001b[39;49m\u001b[43m)\u001b[49m \u001b[38;5;28;01mas\u001b[39;00m f:\n\u001b[1;32m      6\u001b[0m         data \u001b[38;5;241m=\u001b[39m json\u001b[38;5;241m.\u001b[39mload(f)\n\u001b[1;32m      7\u001b[0m         \u001b[38;5;28;01mtry\u001b[39;00m:\n",
      "File \u001b[0;32m~/anaconda3/envs/personalized_fl/lib/python3.11/site-packages/IPython/core/interactiveshell.py:284\u001b[0m, in \u001b[0;36m_modified_open\u001b[0;34m(file, *args, **kwargs)\u001b[0m\n\u001b[1;32m    277\u001b[0m \u001b[38;5;28;01mif\u001b[39;00m file \u001b[38;5;129;01min\u001b[39;00m {\u001b[38;5;241m0\u001b[39m, \u001b[38;5;241m1\u001b[39m, \u001b[38;5;241m2\u001b[39m}:\n\u001b[1;32m    278\u001b[0m     \u001b[38;5;28;01mraise\u001b[39;00m \u001b[38;5;167;01mValueError\u001b[39;00m(\n\u001b[1;32m    279\u001b[0m         \u001b[38;5;124mf\u001b[39m\u001b[38;5;124m\"\u001b[39m\u001b[38;5;124mIPython won\u001b[39m\u001b[38;5;124m'\u001b[39m\u001b[38;5;124mt let you open fd=\u001b[39m\u001b[38;5;132;01m{\u001b[39;00mfile\u001b[38;5;132;01m}\u001b[39;00m\u001b[38;5;124m by default \u001b[39m\u001b[38;5;124m\"\u001b[39m\n\u001b[1;32m    280\u001b[0m         \u001b[38;5;124m\"\u001b[39m\u001b[38;5;124mas it is likely to crash IPython. If you know what you are doing, \u001b[39m\u001b[38;5;124m\"\u001b[39m\n\u001b[1;32m    281\u001b[0m         \u001b[38;5;124m\"\u001b[39m\u001b[38;5;124myou can use builtins\u001b[39m\u001b[38;5;124m'\u001b[39m\u001b[38;5;124m open.\u001b[39m\u001b[38;5;124m\"\u001b[39m\n\u001b[1;32m    282\u001b[0m     )\n\u001b[0;32m--> 284\u001b[0m \u001b[38;5;28;01mreturn\u001b[39;00m \u001b[43mio_open\u001b[49m\u001b[43m(\u001b[49m\u001b[43mfile\u001b[49m\u001b[43m,\u001b[49m\u001b[43m \u001b[49m\u001b[38;5;241;43m*\u001b[39;49m\u001b[43margs\u001b[49m\u001b[43m,\u001b[49m\u001b[43m \u001b[49m\u001b[38;5;241;43m*\u001b[39;49m\u001b[38;5;241;43m*\u001b[39;49m\u001b[43mkwargs\u001b[49m\u001b[43m)\u001b[49m\n",
      "\u001b[0;31mFileNotFoundError\u001b[0m: [Errno 2] No such file or directory: '/proj/sourasb-220503/IoT_attack_CL_IDS/results/1_experiment_results_LSTM_Replay_REPLAY_b2w.json'"
     ]
    }
   ],
   "source": [
    "\n",
    "# List of files\n",
    "files = [ pwd + \"/1_experiment_results_LSTM_WCL_b2w.json\",\n",
    "    pwd + \"/2_experiment_results_LSTM_WCL_b2w.json\",\n",
    "    pwd + \"/3_experiment_results_LSTM_WCL_b2w.json\"\n",
    "]\n",
    "\n",
    "avg_bwt(files)\n",
    "\n",
    "files = [ pwd + \"/1_experiment_results_LSTM_EWC_b2w.json\",\n",
    "    pwd + \"/2_experiment_results_LSTM_EWC_b2w.json\",\n",
    "    pwd + \"/3_experiment_results_LSTM_EWC_b2w.json\"\n",
    "]\n",
    "\n",
    "avg_bwt(files)\n",
    "\n",
    "files = [ pwd + \"/1_experiment_results_LSTM_SI_b2w.json\",\n",
    "    pwd + \"/2_experiment_results_LSTM_SI_b2w.json\",\n",
    "    pwd + \"/3_experiment_results_LSTM_SI_b2w.json\"\n",
    "]\n",
    "\n",
    "avg_bwt(files)\n",
    "\n",
    "files = [ pwd + \"/1_experiment_results_LSTM_LwF_b2w_alpha_1.0_T_4.0.json\",\n",
    "    pwd + \"/2_experiment_results_LSTM_LwF_b2w_alpha_1.0_T_4.0.json\",\n",
    "    pwd + \"/3_experiment_results_LSTM_LwF_b2w_alpha_1.0_T_4.0.json\"\n",
    "]\n",
    "\n",
    "avg_bwt(files)\n",
    "\n",
    "files = [\n",
    "    pwd + \"/1_experiment_results_LSTM_Replay_REPLAY_b2w.json\",\n",
    "    pwd + \"/2_experiment_results_LSTM_Replay_REPLAY_b2w.json\",\n",
    "    pwd + \"/3_experiment_results_LSTM_Replay_REPLAY_b2w.json\"\n",
    "]\n",
    "avg_bwt(files)\n",
    "\n",
    "files = [ pwd + \"/1_experiment_results_LSTM_GR_b2w.json\",\n",
    "    pwd + \"/2_experiment_results_LSTM_GR_b2w.json\",\n",
    "    pwd + \"/3_experiment_results_LSTM_GR_b2w.json\"\n",
    "]\n",
    "\n",
    "avg_bwt(files)"
   ]
  },
  {
   "cell_type": "markdown",
   "id": "9e295e69",
   "metadata": {},
   "source": [
    "## w2b"
   ]
  },
  {
   "cell_type": "code",
   "execution_count": 7,
   "id": "da5b2f98",
   "metadata": {},
   "outputs": [
    {
     "name": "stdout",
     "output_type": "stream",
     "text": [
      "Overall average across files: -0.20 ± 0.00\n",
      "Overall average across files: -0.12 ± 0.01\n",
      "Overall average across files: -0.12 ± 0.02\n",
      "Overall average across files: -0.14 ± 0.02\n"
     ]
    },
    {
     "ename": "FileNotFoundError",
     "evalue": "[Errno 2] No such file or directory: '/proj/sourasb-220503/IoT_attack_CL_IDS/results/1_experiment_results_LSTM_Replay_REPLAY_w2b.json'",
     "output_type": "error",
     "traceback": [
      "\u001b[0;31m---------------------------------------------------------------------------\u001b[0m",
      "\u001b[0;31mFileNotFoundError\u001b[0m                         Traceback (most recent call last)",
      "Cell \u001b[0;32mIn[7], line 35\u001b[0m\n\u001b[1;32m     28\u001b[0m avg_bwt(files)\n\u001b[1;32m     30\u001b[0m files \u001b[38;5;241m=\u001b[39m [\n\u001b[1;32m     31\u001b[0m     pwd \u001b[38;5;241m+\u001b[39m \u001b[38;5;124m\"\u001b[39m\u001b[38;5;124m/1_experiment_results_LSTM_Replay_REPLAY_w2b.json\u001b[39m\u001b[38;5;124m\"\u001b[39m,\n\u001b[1;32m     32\u001b[0m     pwd \u001b[38;5;241m+\u001b[39m \u001b[38;5;124m\"\u001b[39m\u001b[38;5;124m/2_experiment_results_LSTM_Replay_REPLAY_w2b.json\u001b[39m\u001b[38;5;124m\"\u001b[39m,\n\u001b[1;32m     33\u001b[0m     pwd \u001b[38;5;241m+\u001b[39m \u001b[38;5;124m\"\u001b[39m\u001b[38;5;124m/3_experiment_results_LSTM_Replay_REPLAY_w2b.json\u001b[39m\u001b[38;5;124m\"\u001b[39m\n\u001b[1;32m     34\u001b[0m ]\n\u001b[0;32m---> 35\u001b[0m \u001b[43mavg_bwt\u001b[49m\u001b[43m(\u001b[49m\u001b[43mfiles\u001b[49m\u001b[43m)\u001b[49m\n\u001b[1;32m     37\u001b[0m files \u001b[38;5;241m=\u001b[39m [ pwd \u001b[38;5;241m+\u001b[39m \u001b[38;5;124m\"\u001b[39m\u001b[38;5;124m/1_experiment_results_LSTM_GR_w2b.json\u001b[39m\u001b[38;5;124m\"\u001b[39m,\n\u001b[1;32m     38\u001b[0m     pwd \u001b[38;5;241m+\u001b[39m \u001b[38;5;124m\"\u001b[39m\u001b[38;5;124m/2_experiment_results_LSTM_GR_w2b.json\u001b[39m\u001b[38;5;124m\"\u001b[39m,\n\u001b[1;32m     39\u001b[0m     pwd \u001b[38;5;241m+\u001b[39m \u001b[38;5;124m\"\u001b[39m\u001b[38;5;124m/3_experiment_results_LSTM_GR_w2b.json\u001b[39m\u001b[38;5;124m\"\u001b[39m\n\u001b[1;32m     40\u001b[0m ]\n\u001b[1;32m     42\u001b[0m avg_bwt(files)\n",
      "Cell \u001b[0;32mIn[4], line 5\u001b[0m, in \u001b[0;36mavg_bwt\u001b[0;34m(files)\u001b[0m\n\u001b[1;32m      2\u001b[0m per_file_means \u001b[38;5;241m=\u001b[39m []\n\u001b[1;32m      4\u001b[0m \u001b[38;5;28;01mfor\u001b[39;00m file \u001b[38;5;129;01min\u001b[39;00m files:\n\u001b[0;32m----> 5\u001b[0m     \u001b[38;5;28;01mwith\u001b[39;00m \u001b[38;5;28;43mopen\u001b[39;49m\u001b[43m(\u001b[49m\u001b[43mfile\u001b[49m\u001b[43m,\u001b[49m\u001b[43m \u001b[49m\u001b[38;5;124;43m'\u001b[39;49m\u001b[38;5;124;43mr\u001b[39;49m\u001b[38;5;124;43m'\u001b[39;49m\u001b[43m)\u001b[49m \u001b[38;5;28;01mas\u001b[39;00m f:\n\u001b[1;32m      6\u001b[0m         data \u001b[38;5;241m=\u001b[39m json\u001b[38;5;241m.\u001b[39mload(f)\n\u001b[1;32m      7\u001b[0m         \u001b[38;5;28;01mtry\u001b[39;00m:\n",
      "File \u001b[0;32m~/anaconda3/envs/personalized_fl/lib/python3.11/site-packages/IPython/core/interactiveshell.py:284\u001b[0m, in \u001b[0;36m_modified_open\u001b[0;34m(file, *args, **kwargs)\u001b[0m\n\u001b[1;32m    277\u001b[0m \u001b[38;5;28;01mif\u001b[39;00m file \u001b[38;5;129;01min\u001b[39;00m {\u001b[38;5;241m0\u001b[39m, \u001b[38;5;241m1\u001b[39m, \u001b[38;5;241m2\u001b[39m}:\n\u001b[1;32m    278\u001b[0m     \u001b[38;5;28;01mraise\u001b[39;00m \u001b[38;5;167;01mValueError\u001b[39;00m(\n\u001b[1;32m    279\u001b[0m         \u001b[38;5;124mf\u001b[39m\u001b[38;5;124m\"\u001b[39m\u001b[38;5;124mIPython won\u001b[39m\u001b[38;5;124m'\u001b[39m\u001b[38;5;124mt let you open fd=\u001b[39m\u001b[38;5;132;01m{\u001b[39;00mfile\u001b[38;5;132;01m}\u001b[39;00m\u001b[38;5;124m by default \u001b[39m\u001b[38;5;124m\"\u001b[39m\n\u001b[1;32m    280\u001b[0m         \u001b[38;5;124m\"\u001b[39m\u001b[38;5;124mas it is likely to crash IPython. If you know what you are doing, \u001b[39m\u001b[38;5;124m\"\u001b[39m\n\u001b[1;32m    281\u001b[0m         \u001b[38;5;124m\"\u001b[39m\u001b[38;5;124myou can use builtins\u001b[39m\u001b[38;5;124m'\u001b[39m\u001b[38;5;124m open.\u001b[39m\u001b[38;5;124m\"\u001b[39m\n\u001b[1;32m    282\u001b[0m     )\n\u001b[0;32m--> 284\u001b[0m \u001b[38;5;28;01mreturn\u001b[39;00m \u001b[43mio_open\u001b[49m\u001b[43m(\u001b[49m\u001b[43mfile\u001b[49m\u001b[43m,\u001b[49m\u001b[43m \u001b[49m\u001b[38;5;241;43m*\u001b[39;49m\u001b[43margs\u001b[49m\u001b[43m,\u001b[49m\u001b[43m \u001b[49m\u001b[38;5;241;43m*\u001b[39;49m\u001b[38;5;241;43m*\u001b[39;49m\u001b[43mkwargs\u001b[49m\u001b[43m)\u001b[49m\n",
      "\u001b[0;31mFileNotFoundError\u001b[0m: [Errno 2] No such file or directory: '/proj/sourasb-220503/IoT_attack_CL_IDS/results/1_experiment_results_LSTM_Replay_REPLAY_w2b.json'"
     ]
    }
   ],
   "source": [
    "\n",
    "# List of files\n",
    "files = [ pwd + \"/1_experiment_results_LSTM_WCL_w2b.json\",\n",
    "    pwd + \"/2_experiment_results_LSTM_WCL_w2b.json\",\n",
    "    pwd + \"/3_experiment_results_LSTM_WCL_w2b.json\"\n",
    "]\n",
    "\n",
    "avg_bwt(files)\n",
    "\n",
    "files = [ pwd + \"/1_experiment_results_LSTM_EWC_w2b.json\",\n",
    "    pwd + \"/2_experiment_results_LSTM_EWC_w2b.json\",\n",
    "    pwd + \"/3_experiment_results_LSTM_EWC_w2b.json\"\n",
    "]\n",
    "\n",
    "avg_bwt(files)\n",
    "\n",
    "files = [ pwd + \"/1_experiment_results_LSTM_SI_w2b.json\",\n",
    "    pwd + \"/2_experiment_results_LSTM_SI_w2b.json\",\n",
    "    pwd + \"/3_experiment_results_LSTM_SI_w2b.json\"\n",
    "]\n",
    "\n",
    "avg_bwt(files)\n",
    "\n",
    "files = [ pwd + \"/1_experiment_results_LSTM_LwF_w2b_alpha_1.0_T_4.0.json\",\n",
    "    pwd + \"/2_experiment_results_LSTM_LwF_w2b_alpha_1.0_T_4.0.json\",\n",
    "    pwd + \"/3_experiment_results_LSTM_LwF_w2b_alpha_1.0_T_4.0.json\"\n",
    "]\n",
    "\n",
    "avg_bwt(files)\n",
    "\n",
    "files = [\n",
    "    pwd + \"/1_experiment_results_LSTM_Replay_REPLAY_w2b.json\",\n",
    "    pwd + \"/2_experiment_results_LSTM_Replay_REPLAY_w2b.json\",\n",
    "    pwd + \"/3_experiment_results_LSTM_Replay_REPLAY_w2b.json\"\n",
    "]\n",
    "avg_bwt(files)\n",
    "\n",
    "files = [ pwd + \"/1_experiment_results_LSTM_GR_w2b.json\",\n",
    "    pwd + \"/2_experiment_results_LSTM_GR_w2b.json\",\n",
    "    pwd + \"/3_experiment_results_LSTM_GR_w2b.json\"\n",
    "]\n",
    "\n",
    "avg_bwt(files)"
   ]
  },
  {
   "cell_type": "markdown",
   "id": "b3fe0017",
   "metadata": {},
   "source": [
    "## Toggle"
   ]
  },
  {
   "cell_type": "code",
   "execution_count": 8,
   "id": "ac976577",
   "metadata": {},
   "outputs": [
    {
     "name": "stdout",
     "output_type": "stream",
     "text": [
      "Overall average across files: -0.18 ± 0.00\n",
      "Overall average across files: -0.08 ± 0.01\n",
      "Overall average across files: -0.08 ± 0.01\n",
      "Overall average across files: -0.15 ± 0.02\n"
     ]
    },
    {
     "ename": "FileNotFoundError",
     "evalue": "[Errno 2] No such file or directory: '/proj/sourasb-220503/IoT_attack_CL_IDS/results/1_experiment_results_LSTM_Replay_REPLAY_toggle.json'",
     "output_type": "error",
     "traceback": [
      "\u001b[0;31m---------------------------------------------------------------------------\u001b[0m",
      "\u001b[0;31mFileNotFoundError\u001b[0m                         Traceback (most recent call last)",
      "Cell \u001b[0;32mIn[8], line 35\u001b[0m\n\u001b[1;32m     28\u001b[0m avg_bwt(files)\n\u001b[1;32m     30\u001b[0m files \u001b[38;5;241m=\u001b[39m [\n\u001b[1;32m     31\u001b[0m     pwd \u001b[38;5;241m+\u001b[39m \u001b[38;5;124m\"\u001b[39m\u001b[38;5;124m/1_experiment_results_LSTM_Replay_REPLAY_toggle.json\u001b[39m\u001b[38;5;124m\"\u001b[39m,\n\u001b[1;32m     32\u001b[0m     pwd \u001b[38;5;241m+\u001b[39m \u001b[38;5;124m\"\u001b[39m\u001b[38;5;124m/2_experiment_results_LSTM_Replay_REPLAY_toggle.json\u001b[39m\u001b[38;5;124m\"\u001b[39m,\n\u001b[1;32m     33\u001b[0m     pwd \u001b[38;5;241m+\u001b[39m \u001b[38;5;124m\"\u001b[39m\u001b[38;5;124m/3_experiment_results_LSTM_Replay_REPLAY_toggle.json\u001b[39m\u001b[38;5;124m\"\u001b[39m\n\u001b[1;32m     34\u001b[0m ]\n\u001b[0;32m---> 35\u001b[0m \u001b[43mavg_bwt\u001b[49m\u001b[43m(\u001b[49m\u001b[43mfiles\u001b[49m\u001b[43m)\u001b[49m\n\u001b[1;32m     37\u001b[0m files \u001b[38;5;241m=\u001b[39m [ pwd \u001b[38;5;241m+\u001b[39m \u001b[38;5;124m\"\u001b[39m\u001b[38;5;124m/1_experiment_results_LSTM_GR_toggle.json\u001b[39m\u001b[38;5;124m\"\u001b[39m,\n\u001b[1;32m     38\u001b[0m     pwd \u001b[38;5;241m+\u001b[39m \u001b[38;5;124m\"\u001b[39m\u001b[38;5;124m/2_experiment_results_LSTM_GR_toggle.json\u001b[39m\u001b[38;5;124m\"\u001b[39m,\n\u001b[1;32m     39\u001b[0m     pwd \u001b[38;5;241m+\u001b[39m \u001b[38;5;124m\"\u001b[39m\u001b[38;5;124m/3_experiment_results_LSTM_GR_toggle.json\u001b[39m\u001b[38;5;124m\"\u001b[39m\n\u001b[1;32m     40\u001b[0m ]\n\u001b[1;32m     42\u001b[0m avg_bwt(files)\n",
      "Cell \u001b[0;32mIn[4], line 5\u001b[0m, in \u001b[0;36mavg_bwt\u001b[0;34m(files)\u001b[0m\n\u001b[1;32m      2\u001b[0m per_file_means \u001b[38;5;241m=\u001b[39m []\n\u001b[1;32m      4\u001b[0m \u001b[38;5;28;01mfor\u001b[39;00m file \u001b[38;5;129;01min\u001b[39;00m files:\n\u001b[0;32m----> 5\u001b[0m     \u001b[38;5;28;01mwith\u001b[39;00m \u001b[38;5;28;43mopen\u001b[39;49m\u001b[43m(\u001b[49m\u001b[43mfile\u001b[49m\u001b[43m,\u001b[49m\u001b[43m \u001b[49m\u001b[38;5;124;43m'\u001b[39;49m\u001b[38;5;124;43mr\u001b[39;49m\u001b[38;5;124;43m'\u001b[39;49m\u001b[43m)\u001b[49m \u001b[38;5;28;01mas\u001b[39;00m f:\n\u001b[1;32m      6\u001b[0m         data \u001b[38;5;241m=\u001b[39m json\u001b[38;5;241m.\u001b[39mload(f)\n\u001b[1;32m      7\u001b[0m         \u001b[38;5;28;01mtry\u001b[39;00m:\n",
      "File \u001b[0;32m~/anaconda3/envs/personalized_fl/lib/python3.11/site-packages/IPython/core/interactiveshell.py:284\u001b[0m, in \u001b[0;36m_modified_open\u001b[0;34m(file, *args, **kwargs)\u001b[0m\n\u001b[1;32m    277\u001b[0m \u001b[38;5;28;01mif\u001b[39;00m file \u001b[38;5;129;01min\u001b[39;00m {\u001b[38;5;241m0\u001b[39m, \u001b[38;5;241m1\u001b[39m, \u001b[38;5;241m2\u001b[39m}:\n\u001b[1;32m    278\u001b[0m     \u001b[38;5;28;01mraise\u001b[39;00m \u001b[38;5;167;01mValueError\u001b[39;00m(\n\u001b[1;32m    279\u001b[0m         \u001b[38;5;124mf\u001b[39m\u001b[38;5;124m\"\u001b[39m\u001b[38;5;124mIPython won\u001b[39m\u001b[38;5;124m'\u001b[39m\u001b[38;5;124mt let you open fd=\u001b[39m\u001b[38;5;132;01m{\u001b[39;00mfile\u001b[38;5;132;01m}\u001b[39;00m\u001b[38;5;124m by default \u001b[39m\u001b[38;5;124m\"\u001b[39m\n\u001b[1;32m    280\u001b[0m         \u001b[38;5;124m\"\u001b[39m\u001b[38;5;124mas it is likely to crash IPython. If you know what you are doing, \u001b[39m\u001b[38;5;124m\"\u001b[39m\n\u001b[1;32m    281\u001b[0m         \u001b[38;5;124m\"\u001b[39m\u001b[38;5;124myou can use builtins\u001b[39m\u001b[38;5;124m'\u001b[39m\u001b[38;5;124m open.\u001b[39m\u001b[38;5;124m\"\u001b[39m\n\u001b[1;32m    282\u001b[0m     )\n\u001b[0;32m--> 284\u001b[0m \u001b[38;5;28;01mreturn\u001b[39;00m \u001b[43mio_open\u001b[49m\u001b[43m(\u001b[49m\u001b[43mfile\u001b[49m\u001b[43m,\u001b[49m\u001b[43m \u001b[49m\u001b[38;5;241;43m*\u001b[39;49m\u001b[43margs\u001b[49m\u001b[43m,\u001b[49m\u001b[43m \u001b[49m\u001b[38;5;241;43m*\u001b[39;49m\u001b[38;5;241;43m*\u001b[39;49m\u001b[43mkwargs\u001b[49m\u001b[43m)\u001b[49m\n",
      "\u001b[0;31mFileNotFoundError\u001b[0m: [Errno 2] No such file or directory: '/proj/sourasb-220503/IoT_attack_CL_IDS/results/1_experiment_results_LSTM_Replay_REPLAY_toggle.json'"
     ]
    }
   ],
   "source": [
    "\n",
    "# List of files\n",
    "files = [ pwd + \"/1_experiment_results_LSTM_WCL_toggle.json\",\n",
    "    pwd + \"/2_experiment_results_LSTM_WCL_toggle.json\",\n",
    "    pwd + \"/3_experiment_results_LSTM_WCL_toggle.json\"\n",
    "]\n",
    "\n",
    "avg_bwt(files)\n",
    "\n",
    "files = [ pwd + \"/1_experiment_results_LSTM_EWC_toggle.json\",\n",
    "    pwd + \"/2_experiment_results_LSTM_EWC_toggle.json\",\n",
    "    pwd + \"/3_experiment_results_LSTM_EWC_toggle.json\"\n",
    "]\n",
    "\n",
    "avg_bwt(files)\n",
    "\n",
    "files = [ pwd + \"/1_experiment_results_LSTM_SI_toggle.json\",\n",
    "    pwd + \"/2_experiment_results_LSTM_SI_toggle.json\",\n",
    "    pwd + \"/3_experiment_results_LSTM_SI_toggle.json\"\n",
    "]\n",
    "\n",
    "avg_bwt(files)\n",
    "\n",
    "files = [ pwd + \"/1_experiment_results_LSTM_LwF_toggle_alpha_1.0_T_4.0.json\",\n",
    "    pwd + \"/2_experiment_results_LSTM_LwF_toggle_alpha_1.0_T_4.0.json\",\n",
    "    pwd + \"/3_experiment_results_LSTM_LwF_toggle_alpha_1.0_T_4.0.json\"\n",
    "]\n",
    "\n",
    "avg_bwt(files)\n",
    "\n",
    "files = [\n",
    "    pwd + \"/1_experiment_results_LSTM_Replay_REPLAY_toggle.json\",\n",
    "    pwd + \"/2_experiment_results_LSTM_Replay_REPLAY_toggle.json\",\n",
    "    pwd + \"/3_experiment_results_LSTM_Replay_REPLAY_toggle.json\"\n",
    "]\n",
    "avg_bwt(files)\n",
    "\n",
    "files = [ pwd + \"/1_experiment_results_LSTM_GR_toggle.json\",\n",
    "    pwd + \"/2_experiment_results_LSTM_GR_toggle.json\",\n",
    "    pwd + \"/3_experiment_results_LSTM_GR_toggle.json\"\n",
    "]\n",
    "\n",
    "avg_bwt(files)"
   ]
  }
 ],
 "metadata": {
  "kernelspec": {
   "display_name": "personalized_fl",
   "language": "python",
   "name": "python3"
  },
  "language_info": {
   "codemirror_mode": {
    "name": "ipython",
    "version": 3
   },
   "file_extension": ".py",
   "mimetype": "text/x-python",
   "name": "python",
   "nbconvert_exporter": "python",
   "pygments_lexer": "ipython3",
   "version": "3.11.3"
  }
 },
 "nbformat": 4,
 "nbformat_minor": 5
}
