{
 "cells": [
  {
   "cell_type": "code",
   "execution_count": 22,
   "id": "ec677eea",
   "metadata": {},
   "outputs": [
    {
     "data": {
      "text/plain": [
       "{'worstparent_var15_oo': 0.02605157040051698,\n",
       " 'disflooding_var5_oo': -0.3475666053505914,\n",
       " 'localrepair_var10_base': 0.048409980202367475,\n",
       " 'disflooding_var15_base': -0.0699754984735099,\n",
       " 'localrepair_var5_dec': -0.3368891581916977,\n",
       " 'localrepair_var20_dec': 0.023455269910383447,\n",
       " 'disflooding_var20_dec': -0.0547799032858778,\n",
       " 'localrepair_var10_dec': 0.21466909003028484,\n",
       " 'localrepair_var15_base': -0.0027249578494629363,\n",
       " 'disflooding_var15_dec': 0.011933904984847346,\n",
       " 'worstparent_var20_oo': 0.05757150603307868,\n",
       " 'disflooding_var15_oo': -0.05734845197484167,\n",
       " 'disflooding_var10_oo': 0.007297014605844761,\n",
       " 'worstparent_var5_base': -0.3827532300023321,\n",
       " 'disflooding_var10_base': -0.2898207453465678,\n",
       " 'localrepair_var5_base': -0.38094493132445195,\n",
       " 'disflooding_var5_dec': -0.2325918195499074,\n",
       " 'disflooding_var20_base': 0.0027871841518801363,\n",
       " 'worstparent_var15_base': 0.10319211854736984,\n",
       " 'localrepair_var15_dec': -0.09293046261397507,\n",
       " 'worstparent_var20_base': 0.04792240834023804,\n",
       " 'worstparent_var10_oo': -0.13465958066702233,\n",
       " 'disflooding_var10_dec': 0.01064283936974511,\n",
       " 'worstparent_var20_dec': -0.09904183878927628,\n",
       " 'worstparent_var10_base': 0.21862391679578588,\n",
       " 'worstparent_var10_dec': -0.004924434472630585,\n",
       " 'disflooding_var5_base': -0.16395785576367575,\n",
       " 'worstparent_var5_dec': -0.11237457528021164,\n",
       " 'localrepair_var5_oo': -0.20117261045764315,\n",
       " 'disflooding_var20_oo': -0.2123460796058514,\n",
       " 'localrepair_var15_oo': 0.0010864351822715002,\n",
       " 'localrepair_var10_oo': 0.03074223432933702,\n",
       " 'localrepair_var20_base': 0.06951431444417233,\n",
       " 'worstparent_var15_dec': 0.08046359843547274,\n",
       " 'worstparent_var5_oo': -0.10896634718121412,\n",
       " 'localrepair_var20_oo': 0.7850313842877373}"
      ]
     },
     "execution_count": 22,
     "metadata": {},
     "output_type": "execute_result"
    }
   ],
   "source": [
    "import json\n",
    "import pandas as pd\n",
    "import numpy as np\n",
    "\n",
    "# 1) Load your JSON\n",
    "with open(\"results/experiment_results_EWC_similarity.json\", \"r\") as f:\n",
    "    data = json.load(f)\n",
    "\n",
    "\n",
    "perf_dict  = data[\"performance_matrix\"]\n",
    "BWT_dict = {}\n",
    "for k, vals in perf_dict.items():\n",
    "    if len(vals) <= 1:\n",
    "        # single‐value: leave it as is\n",
    "        BWT_dict[k] = vals[0] if vals else None\n",
    "    else:\n",
    "        last = vals[-1]\n",
    "        # compute differences to the last element\n",
    "        diffs = [last - x for x in vals[:-1]]\n",
    "        # average them\n",
    "        BWT_dict[k] = sum(diffs) / len(diffs)\n",
    "BWT_dict"
   ]
  },
  {
   "cell_type": "code",
   "execution_count": 23,
   "id": "b8cc0fcd",
   "metadata": {},
   "outputs": [
    {
     "name": "stdout",
     "output_type": "stream",
     "text": [
      "Average BWT: -0.042954842114705766\n"
     ]
    }
   ],
   "source": [
    "import pandas as pd\n",
    "\n",
    "avg_bwt = pd.Series(BWT_dict).astype(float).mean()\n",
    "print(\"Average BWT:\", avg_bwt)"
   ]
  }
 ],
 "metadata": {
  "kernelspec": {
   "display_name": "vinnova",
   "language": "python",
   "name": "python3"
  },
  "language_info": {
   "codemirror_mode": {
    "name": "ipython",
    "version": 3
   },
   "file_extension": ".py",
   "mimetype": "text/x-python",
   "name": "python",
   "nbconvert_exporter": "python",
   "pygments_lexer": "ipython3",
   "version": "3.9.21"
  }
 },
 "nbformat": 4,
 "nbformat_minor": 5
}
