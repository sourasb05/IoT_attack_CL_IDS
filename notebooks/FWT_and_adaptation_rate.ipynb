{
 "cells": [
  {
   "cell_type": "code",
   "execution_count": 1,
   "id": "79ad8dee",
   "metadata": {},
   "outputs": [
    {
     "name": "stdout",
     "output_type": "stream",
     "text": [
      "Parent working directory: /proj/sourasb-220503/IoT_attack_CL_IDS/results\n"
     ]
    }
   ],
   "source": [
    "import json\n",
    "import numpy as np\n",
    "import os\n",
    "\n",
    "cw = os.getcwd()\n",
    "pwd = os.path.abspath(os.path.join(cw, \"..\", \"results\"))\n",
    "print(f\"Parent working directory: {pwd}\")"
   ]
  },
  {
   "cell_type": "code",
   "execution_count": 10,
   "id": "6d94d375",
   "metadata": {},
   "outputs": [],
   "source": [
    "import os, json\n",
    "import numpy as np\n",
    "\n",
    "def compute_adaptation_rate(files):\n",
    "    \"\"\"\n",
    "    Compute adaptation rate A(a_t) for a list of experiment result JSON files.\n",
    "    \n",
    "    Args:\n",
    "        files (list[str]): List of file paths to JSON experiment result files.\n",
    "    \n",
    "    Returns:\n",
    "        dict: Per-file statistics and overall summary.\n",
    "    \"\"\"\n",
    "    per_file_stats = []\n",
    "    per_file_avg_A = []\n",
    "    per_file_std_A = []\n",
    "\n",
    "    for file in files:\n",
    "        with open(file, \"r\") as f:\n",
    "            data = json.load(f)\n",
    "\n",
    "        # --- Numerators: 2nd - 1st element from performance_m ---\n",
    "        perf = data.get(\"performance_m\", {}) or {}\n",
    "        keys_in_order = list(perf.keys())\n",
    "        numerators = []\n",
    "        for k in keys_in_order:\n",
    "            v = perf[k]\n",
    "            if isinstance(v, (list, tuple)) and len(v) >= 2:\n",
    "                numerators.append(float(v[0]) - float(v[1]))\n",
    "            else:\n",
    "                numerators.append(np.nan)\n",
    "\n",
    "        # --- Denominators: TT from domain_training_cost dict (first number per key) ---\n",
    "        cost_dict = data.get(\"domain_training_cost\", {}) or {}\n",
    "        denominators = []\n",
    "        for k in keys_in_order:\n",
    "            c = cost_dict.get(k, None)\n",
    "            if isinstance(c, (list, tuple)) and len(c) >= 1:\n",
    "                denominators.append(float(c[0]))\n",
    "            else:\n",
    "                denominators.append(np.nan)\n",
    "\n",
    "        numerators = np.array(numerators, dtype=float)\n",
    "        denominators = np.array(denominators, dtype=float)\n",
    "\n",
    "        # Valid pairs: finite numerator and positive denominator\n",
    "        valid = np.isfinite(numerators) & np.isfinite(denominators) & (denominators > 0)\n",
    "        A_vals = numerators[valid] / denominators[valid]\n",
    "\n",
    "        if A_vals.size:\n",
    "            avg_num = float(np.mean(numerators[valid]))\n",
    "            avg_A = float(np.mean(A_vals))\n",
    "            std_A = float(np.std(A_vals))\n",
    "            per_file_avg_A.append(avg_A)\n",
    "            per_file_std_A.append(std_A)\n",
    "\n",
    "            file_stats = {\n",
    "                \"file\": os.path.basename(file),\n",
    "                \"domains_counted\": int(A_vals.size),\n",
    "                \"total_domains\": len(keys_in_order),\n",
    "                \"mean_numerator\": avg_num,\n",
    "                \"mean_A\": avg_A,\n",
    "                \"std_A\": std_A,\n",
    "            }\n",
    "            per_file_stats.append(file_stats)\n",
    "\n",
    "            print(f\"{file_stats['file']}:\")\n",
    "            print(f\"  Domains counted: {file_stats['domains_counted']}/{file_stats['total_domains']}\")\n",
    "            print(f\"  Mean numerator (2nd - 1st perf): {file_stats['mean_numerator']:.6f}\")\n",
    "            print(f\"  Mean adaptation rate: {file_stats['mean_A']:.6f}  (std: {file_stats['std_A']:.6f})\")\n",
    "        else:\n",
    "            print(f\"{os.path.basename(file)}: No valid adaptation-rate entries.\")\n",
    "\n",
    "    # --- Overall summary ---\n",
    "    overall = {}\n",
    "    if per_file_avg_A:\n",
    "        overall[\"overall_mean_A\"] = float(np.mean(per_file_avg_A))\n",
    "        overall[\"overall_std_A\"] = float(np.std(per_file_avg_A))\n",
    "\n",
    "        print(\"\\n===== Overall Adaptation Rate (per-file means) =====\")\n",
    "        print(f\"Overall mean A: {overall['overall_mean_A']:.6f} ± {overall['overall_std_A']:.6f}\")\n",
    "    else:\n",
    "        print(\"\\nNo adaptation-rate statistics could be computed.\")\n",
    "\n",
    "    return {\n",
    "        \"per_file\": per_file_stats,\n",
    "        \"overall\": overall\n",
    "    }\n"
   ]
  },
  {
   "cell_type": "code",
   "execution_count": 11,
   "id": "dae75f0d",
   "metadata": {},
   "outputs": [
    {
     "name": "stdout",
     "output_type": "stream",
     "text": [
      "1_experiment_results_LSTM_WCL_random.json:\n",
      "  Domains counted: 47/48\n",
      "  Mean numerator (2nd - 1st perf): -0.248722\n",
      "  Mean adaptation rate: -0.015381  (std: 0.016784)\n",
      "2_experiment_results_LSTM_WCL_random.json:\n",
      "  Domains counted: 47/48\n",
      "  Mean numerator (2nd - 1st perf): -0.257262\n",
      "  Mean adaptation rate: -0.017747  (std: 0.021387)\n",
      "3_experiment_results_LSTM_WCL_random.json:\n",
      "  Domains counted: 47/48\n",
      "  Mean numerator (2nd - 1st perf): -0.257060\n",
      "  Mean adaptation rate: -0.015724  (std: 0.016242)\n",
      "\n",
      "===== Overall Adaptation Rate (per-file means) =====\n",
      "Overall mean A: -0.016284 ± 0.001044\n"
     ]
    }
   ],
   "source": [
    "# List of files\n",
    "files = [\n",
    "    pwd + \"/1_experiment_results_LSTM_WCL_random.json\",\n",
    "    pwd + \"/2_experiment_results_LSTM_WCL_random.json\",\n",
    "    pwd + \"/3_experiment_results_LSTM_WCL_random.json\"\n",
    "]\n",
    "\n",
    "results = compute_adaptation_rate(files)\n"
   ]
  },
  {
   "cell_type": "code",
   "execution_count": 12,
   "id": "415ee4dc",
   "metadata": {},
   "outputs": [
    {
     "name": "stdout",
     "output_type": "stream",
     "text": [
      "1_experiment_results_LSTM_WCL_b2w.json:\n",
      "  Domains counted: 47/48\n",
      "  Mean numerator (2nd - 1st perf): -0.122689\n",
      "  Mean adaptation rate: -0.007935  (std: 0.009579)\n",
      "2_experiment_results_LSTM_WCL_b2w.json:\n",
      "  Domains counted: 47/48\n",
      "  Mean numerator (2nd - 1st perf): -0.124748\n",
      "  Mean adaptation rate: -0.008679  (std: 0.009980)\n",
      "3_experiment_results_LSTM_WCL_b2w.json:\n",
      "  Domains counted: 47/48\n",
      "  Mean numerator (2nd - 1st perf): -0.140394\n",
      "  Mean adaptation rate: -0.010042  (std: 0.012182)\n",
      "\n",
      "===== Overall Adaptation Rate (per-file means) =====\n",
      "Overall mean A: -0.008885 ± 0.000872\n"
     ]
    }
   ],
   "source": [
    "# List of files\n",
    "files = [\n",
    "    pwd + \"/1_experiment_results_LSTM_WCL_b2w.json\",\n",
    "    pwd + \"/2_experiment_results_LSTM_WCL_b2w.json\",\n",
    "    pwd + \"/3_experiment_results_LSTM_WCL_b2w.json\"\n",
    "]\n",
    "\n",
    "results = compute_adaptation_rate(files)\n"
   ]
  },
  {
   "cell_type": "code",
   "execution_count": 13,
   "id": "44ff2888",
   "metadata": {},
   "outputs": [
    {
     "name": "stdout",
     "output_type": "stream",
     "text": [
      "1_experiment_results_LSTM_WCL_w2b.json:\n",
      "  Domains counted: 47/48\n",
      "  Mean numerator (2nd - 1st perf): -0.419276\n",
      "  Mean adaptation rate: -0.022095  (std: 0.014469)\n",
      "2_experiment_results_LSTM_WCL_w2b.json:\n",
      "  Domains counted: 47/48\n",
      "  Mean numerator (2nd - 1st perf): -0.399570\n",
      "  Mean adaptation rate: -0.020241  (std: 0.014231)\n",
      "3_experiment_results_LSTM_WCL_w2b.json:\n",
      "  Domains counted: 47/48\n",
      "  Mean numerator (2nd - 1st perf): -0.388772\n",
      "  Mean adaptation rate: -0.020466  (std: 0.014820)\n",
      "\n",
      "===== Overall Adaptation Rate (per-file means) =====\n",
      "Overall mean A: -0.020934 ± 0.000826\n"
     ]
    }
   ],
   "source": [
    "# List of files\n",
    "files = [\n",
    "    pwd + \"/1_experiment_results_LSTM_WCL_w2b.json\",\n",
    "    pwd + \"/2_experiment_results_LSTM_WCL_w2b.json\",\n",
    "    pwd + \"/3_experiment_results_LSTM_WCL_w2b.json\"\n",
    "]\n",
    "\n",
    "results = compute_adaptation_rate(files)\n"
   ]
  },
  {
   "cell_type": "code",
   "execution_count": 14,
   "id": "9ca1d221",
   "metadata": {},
   "outputs": [
    {
     "name": "stdout",
     "output_type": "stream",
     "text": [
      "1_experiment_results_LSTM_WCL_toggle.json:\n",
      "  Domains counted: 47/48\n",
      "  Mean numerator (2nd - 1st perf): -0.308207\n",
      "  Mean adaptation rate: -0.021611  (std: 0.019561)\n",
      "2_experiment_results_LSTM_WCL_toggle.json:\n",
      "  Domains counted: 47/48\n",
      "  Mean numerator (2nd - 1st perf): -0.314007\n",
      "  Mean adaptation rate: -0.022763  (std: 0.020621)\n",
      "3_experiment_results_LSTM_WCL_toggle.json:\n",
      "  Domains counted: 47/48\n",
      "  Mean numerator (2nd - 1st perf): -0.322233\n",
      "  Mean adaptation rate: -0.023740  (std: 0.022179)\n",
      "\n",
      "===== Overall Adaptation Rate (per-file means) =====\n",
      "Overall mean A: -0.022705 ± 0.000870\n"
     ]
    }
   ],
   "source": [
    "# List of files\n",
    "files = [\n",
    "    pwd + \"/1_experiment_results_LSTM_WCL_toggle.json\",\n",
    "    pwd + \"/2_experiment_results_LSTM_WCL_toggle.json\",\n",
    "    pwd + \"/3_experiment_results_LSTM_WCL_toggle.json\"\n",
    "]\n",
    "\n",
    "results = compute_adaptation_rate(files)\n"
   ]
  },
  {
   "cell_type": "code",
   "execution_count": 15,
   "id": "5b6c4a09",
   "metadata": {},
   "outputs": [
    {
     "name": "stdout",
     "output_type": "stream",
     "text": [
      "1_experiment_results_LSTM_SI_random.json:\n",
      "  Domains counted: 47/48\n",
      "  Mean numerator (2nd - 1st perf): -0.024337\n",
      "  Mean adaptation rate: -0.001418  (std: 0.003931)\n",
      "2_experiment_results_LSTM_SI_random.json:\n",
      "  Domains counted: 47/48\n",
      "  Mean numerator (2nd - 1st perf): -0.027811\n",
      "  Mean adaptation rate: -0.001656  (std: 0.004185)\n",
      "3_experiment_results_LSTM_SI_random.json:\n",
      "  Domains counted: 47/48\n",
      "  Mean numerator (2nd - 1st perf): -0.032399\n",
      "  Mean adaptation rate: -0.002059  (std: 0.004918)\n",
      "\n",
      "===== Overall Adaptation Rate (per-file means) =====\n",
      "Overall mean A: -0.001711 ± 0.000264\n"
     ]
    }
   ],
   "source": [
    "# List of files\n",
    "files = [\n",
    "    pwd + \"/1_experiment_results_LSTM_SI_random.json\",\n",
    "    pwd + \"/2_experiment_results_LSTM_SI_random.json\",\n",
    "    pwd + \"/3_experiment_results_LSTM_SI_random.json\"\n",
    "]\n",
    "\n",
    "results = compute_adaptation_rate(files)\n"
   ]
  },
  {
   "cell_type": "code",
   "execution_count": 16,
   "id": "1eb7f897",
   "metadata": {},
   "outputs": [
    {
     "name": "stdout",
     "output_type": "stream",
     "text": [
      "1_experiment_results_LSTM_SI_b2w.json:\n",
      "  Domains counted: 47/48\n",
      "  Mean numerator (2nd - 1st perf): -0.030770\n",
      "  Mean adaptation rate: -0.001420  (std: 0.002661)\n",
      "2_experiment_results_LSTM_SI_b2w.json:\n",
      "  Domains counted: 47/48\n",
      "  Mean numerator (2nd - 1st perf): -0.032598\n",
      "  Mean adaptation rate: -0.001622  (std: 0.002821)\n",
      "3_experiment_results_LSTM_SI_b2w.json:\n",
      "  Domains counted: 47/48\n",
      "  Mean numerator (2nd - 1st perf): -0.025751\n",
      "  Mean adaptation rate: -0.001051  (std: 0.001965)\n",
      "\n",
      "===== Overall Adaptation Rate (per-file means) =====\n",
      "Overall mean A: -0.001364 ± 0.000236\n"
     ]
    }
   ],
   "source": [
    "# List of files\n",
    "files = [\n",
    "    pwd + \"/1_experiment_results_LSTM_SI_b2w.json\",\n",
    "    pwd + \"/2_experiment_results_LSTM_SI_b2w.json\",\n",
    "    pwd + \"/3_experiment_results_LSTM_SI_b2w.json\"\n",
    "]\n",
    "\n",
    "results = compute_adaptation_rate(files)\n"
   ]
  },
  {
   "cell_type": "code",
   "execution_count": 17,
   "id": "3ca1f6df",
   "metadata": {},
   "outputs": [
    {
     "name": "stdout",
     "output_type": "stream",
     "text": [
      "1_experiment_results_LSTM_SI_w2b.json:\n",
      "  Domains counted: 47/48\n",
      "  Mean numerator (2nd - 1st perf): -0.062905\n",
      "  Mean adaptation rate: -0.004554  (std: 0.009514)\n",
      "2_experiment_results_LSTM_SI_w2b.json:\n",
      "  Domains counted: 47/48\n",
      "  Mean numerator (2nd - 1st perf): -0.037931\n",
      "  Mean adaptation rate: -0.002766  (std: 0.008831)\n",
      "3_experiment_results_LSTM_SI_w2b.json:\n",
      "  Domains counted: 47/48\n",
      "  Mean numerator (2nd - 1st perf): -0.074155\n",
      "  Mean adaptation rate: -0.005375  (std: 0.012305)\n",
      "\n",
      "===== Overall Adaptation Rate (per-file means) =====\n",
      "Overall mean A: -0.004232 ± 0.001089\n"
     ]
    }
   ],
   "source": [
    "files = [    pwd + \"/1_experiment_results_LSTM_SI_w2b.json\",\n",
    "    pwd + \"/2_experiment_results_LSTM_SI_w2b.json\",\n",
    "    pwd + \"/3_experiment_results_LSTM_SI_w2b.json\"\n",
    "]   \n",
    "results = compute_adaptation_rate(files)"
   ]
  },
  {
   "cell_type": "code",
   "execution_count": 19,
   "id": "da9b8f7d",
   "metadata": {},
   "outputs": [
    {
     "name": "stdout",
     "output_type": "stream",
     "text": [
      "1_experiment_results_LSTM_SI_toggle.json:\n",
      "  Domains counted: 47/48\n",
      "  Mean numerator (2nd - 1st perf): -0.045009\n",
      "  Mean adaptation rate: -0.003721  (std: 0.010533)\n",
      "2_experiment_results_LSTM_SI_toggle.json:\n",
      "  Domains counted: 47/48\n",
      "  Mean numerator (2nd - 1st perf): -0.059214\n",
      "  Mean adaptation rate: -0.003558  (std: 0.007085)\n",
      "3_experiment_results_LSTM_SI_toggle.json:\n",
      "  Domains counted: 47/48\n",
      "  Mean numerator (2nd - 1st perf): -0.034628\n",
      "  Mean adaptation rate: -0.002205  (std: 0.005899)\n",
      "\n",
      "===== Overall Adaptation Rate (per-file means) =====\n",
      "Overall mean A: -0.003161 ± 0.000680\n"
     ]
    }
   ],
   "source": [
    "files = [    pwd + \"/1_experiment_results_LSTM_SI_toggle.json\",\n",
    "    pwd + \"/2_experiment_results_LSTM_SI_toggle.json\",\n",
    "    pwd + \"/3_experiment_results_LSTM_SI_toggle.json\"\n",
    "]\n",
    "results = compute_adaptation_rate(files)"
   ]
  },
  {
   "cell_type": "code",
   "execution_count": 20,
   "id": "0dc99b2b",
   "metadata": {},
   "outputs": [
    {
     "name": "stdout",
     "output_type": "stream",
     "text": [
      "1_experiment_results_LSTM_EWC_random.json:\n",
      "  Domains counted: 47/48\n",
      "  Mean numerator (2nd - 1st perf): -0.050463\n",
      "  Mean adaptation rate: -0.000995  (std: 0.002176)\n",
      "2_experiment_results_LSTM_EWC_random.json:\n",
      "  Domains counted: 47/48\n",
      "  Mean numerator (2nd - 1st perf): -0.111720\n",
      "  Mean adaptation rate: -0.001789  (std: 0.003539)\n",
      "3_experiment_results_LSTM_EWC_random.json:\n",
      "  Domains counted: 47/48\n",
      "  Mean numerator (2nd - 1st perf): -0.074252\n",
      "  Mean adaptation rate: -0.002182  (std: 0.006395)\n",
      "\n",
      "===== Overall Adaptation Rate (per-file means) =====\n",
      "Overall mean A: -0.001656 ± 0.000494\n"
     ]
    }
   ],
   "source": [
    "# List of files\n",
    "files = [\n",
    "    pwd + \"/1_experiment_results_LSTM_EWC_random.json\",\n",
    "    pwd + \"/2_experiment_results_LSTM_EWC_random.json\",\n",
    "    pwd + \"/3_experiment_results_LSTM_EWC_random.json\"\n",
    "]\n",
    "\n",
    "results = compute_adaptation_rate(files)\n"
   ]
  }
 ],
 "metadata": {
  "kernelspec": {
   "display_name": "personalized_fl",
   "language": "python",
   "name": "python3"
  },
  "language_info": {
   "codemirror_mode": {
    "name": "ipython",
    "version": 3
   },
   "file_extension": ".py",
   "mimetype": "text/x-python",
   "name": "python",
   "nbconvert_exporter": "python",
   "pygments_lexer": "ipython3",
   "version": "3.11.3"
  }
 },
 "nbformat": 4,
 "nbformat_minor": 5
}
