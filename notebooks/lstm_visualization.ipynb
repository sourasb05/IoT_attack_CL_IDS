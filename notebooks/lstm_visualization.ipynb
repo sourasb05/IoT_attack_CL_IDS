{
 "cells": [
  {
   "cell_type": "code",
   "execution_count": 4,
   "id": "415eb543",
   "metadata": {},
   "outputs": [
    {
     "data": {
      "text/plain": [
       "==========================================================================================\n",
       "Layer (type:depth-idx)                   Output Shape              Param #\n",
       "==========================================================================================\n",
       "LSTMModelWithAttention                   [128, 2]                  --\n",
       "├─LSTM: 1-1                              [128, 10, 256]            542,720\n",
       "├─Linear: 1-2                            [128, 10, 1]              257\n",
       "├─Linear: 1-3                            [128, 2]                  514\n",
       "==========================================================================================\n",
       "Total params: 543,491\n",
       "Trainable params: 543,491\n",
       "Non-trainable params: 0\n",
       "Total mult-adds (M): 694.78\n",
       "==========================================================================================\n",
       "Input size (MB): 0.07\n",
       "Forward/backward pass size (MB): 2.63\n",
       "Params size (MB): 2.17\n",
       "Estimated Total Size (MB): 4.88\n",
       "=========================================================================================="
      ]
     },
     "execution_count": 4,
     "metadata": {},
     "output_type": "execute_result"
    }
   ],
   "source": [
    "\n",
    "from torchinfo import summary\n",
    "import models as models\n",
    "\n",
    "input_size = 14\n",
    "hidden_size = 128\n",
    "output_size = 2\n",
    "\n",
    "model = models.LSTMModelWithAttention(input_size=input_size, hidden_size=hidden_size, output_size=output_size,num_layers=2, dropout=0.5, bidirectional=True)\n",
    "\n",
    "summary(model, input_size=(128,10,14))"
   ]
  }
 ],
 "metadata": {
  "kernelspec": {
   "display_name": "vinnova",
   "language": "python",
   "name": "python3"
  },
  "language_info": {
   "codemirror_mode": {
    "name": "ipython",
    "version": 3
   },
   "file_extension": ".py",
   "mimetype": "text/x-python",
   "name": "python",
   "nbconvert_exporter": "python",
   "pygments_lexer": "ipython3",
   "version": "3.9.21"
  }
 },
 "nbformat": 4,
 "nbformat_minor": 5
}
